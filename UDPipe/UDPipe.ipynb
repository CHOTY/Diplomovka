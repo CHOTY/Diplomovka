{
 "cells": [
  {
   "cell_type": "code",
   "execution_count": 1,
   "metadata": {},
   "outputs": [
    {
     "name": "stderr",
     "output_type": "stream",
     "text": [
      "c:\\Users\\marti\\Diplomovka\\UDPipe\\.venv\\Lib\\site-packages\\tqdm\\auto.py:21: TqdmWarning: IProgress not found. Please update jupyter and ipywidgets. See https://ipywidgets.readthedocs.io/en/stable/user_install.html\n",
      "  from .autonotebook import tqdm as notebook_tqdm\n"
     ]
    }
   ],
   "source": [
    "# Import potrebných knižníc\n",
    "import stanza\n",
    "import pandas as pd\n",
    "import requests\n",
    "import json  # Zabezpečenie správneho importu JSON knižnice"
   ]
  },
  {
   "cell_type": "code",
   "execution_count": 3,
   "metadata": {},
   "outputs": [
    {
     "name": "stderr",
     "output_type": "stream",
     "text": [
      "Downloading https://raw.githubusercontent.com/stanfordnlp/stanza-resources/main/resources_1.10.0.json: 424kB [00:00, 5.65MB/s]                    \n",
      "2025-01-12 14:12:09 INFO: Downloaded file to C:\\Users\\marti\\stanza_resources\\resources.json\n",
      "2025-01-12 14:12:09 INFO: Downloading default packages for language: sk (Slovak) ...\n",
      "2025-01-12 14:12:10 INFO: File exists: C:\\Users\\marti\\stanza_resources\\sk\\default.zip\n",
      "2025-01-12 14:12:11 INFO: Finished downloading models and saved to C:\\Users\\marti\\stanza_resources\n",
      "2025-01-12 14:12:11 INFO: Checking for updates to resources.json in case models have been updated.  Note: this behavior can be turned off with download_method=None or download_method=DownloadMethod.REUSE_RESOURCES\n",
      "Downloading https://raw.githubusercontent.com/stanfordnlp/stanza-resources/main/resources_1.10.0.json: 424kB [00:00, 12.6MB/s]                    \n",
      "2025-01-12 14:12:11 INFO: Downloaded file to C:\\Users\\marti\\stanza_resources\\resources.json\n",
      "2025-01-12 14:12:11 INFO: Loading these models for language: sk (Slovak):\n",
      "============================\n",
      "| Processor | Package      |\n",
      "----------------------------\n",
      "| tokenize  | snk          |\n",
      "| mwt       | snk          |\n",
      "| pos       | snk_nocharlm |\n",
      "| lemma     | snk_nocharlm |\n",
      "| depparse  | snk_nocharlm |\n",
      "============================\n",
      "\n",
      "2025-01-12 14:12:11 INFO: Using device: cpu\n",
      "2025-01-12 14:12:11 INFO: Loading: tokenize\n",
      "2025-01-12 14:12:11 INFO: Loading: mwt\n",
      "2025-01-12 14:12:11 INFO: Loading: pos\n",
      "2025-01-12 14:12:12 INFO: Loading: lemma\n",
      "2025-01-12 14:12:12 INFO: Loading: depparse\n",
      "2025-01-12 14:12:12 INFO: Done loading processors!\n"
     ]
    },
    {
     "name": "stdout",
     "output_type": "stream",
     "text": [
      "Výstup uložený do 'output.csv'.\n"
     ]
    }
   ],
   "source": [
    "# Načítanie textového súboru\n",
    "def read_text_file(filepath):\n",
    "    with open(filepath, \"r\", encoding=\"utf-8\") as file:\n",
    "        text = file.read()\n",
    "    return text\n",
    "\n",
    "filepath = r\"C:\\Users\\marti\\Downloads\\DiploDiktaty.txt\"\n",
    "text = read_text_file(filepath)\n",
    "\n",
    "# Stiahnutie slovenského modelu pre Stanza (ak je potrebné)\n",
    "stanza.download('sk')\n",
    "nlp = stanza.Pipeline(lang='sk')\n",
    "\n",
    "# Spracovanie textu cez Stanza\n",
    "dokument = nlp(text)\n",
    "\n",
    "# Príprava dát na ukladanie\n",
    "data = []\n",
    "\n",
    "# Prechádzanie cez vety a spracovanie cez UDPipe API\n",
    "for veta in dokument.sentences:\n",
    "    try:\n",
    "        # Volanie UDPipe API\n",
    "        response = requests.get(\n",
    "            f\"http://lindat.mff.cuni.cz/services/udpipe/api/process?tokenizer&tagger&parser&data={veta.text}&model=slovak-snk-ud-2.15-241121\"\n",
    "        )\n",
    "        if response.status_code != 200:\n",
    "            print(f\"Chyba API pri spracovaní vety: {veta.text}\")\n",
    "            continue\n",
    "\n",
    "        vysledok = json.loads(response.text)  # Použitie JSON modulu\n",
    "        vysledok_riadky = vysledok['result'].split('\\n')\n",
    "\n",
    "        # Spracovanie každého riadku výsledku\n",
    "        for riadok in vysledok_riadky:\n",
    "            if not riadok.startswith(\"#\") and riadok.strip():\n",
    "                riadok_data = riadok.split('\\t')\n",
    "\n",
    "                token = riadok_data[1]\n",
    "                lemma = riadok_data[2]\n",
    "                xpos = riadok_data[4]\n",
    "                deprel = riadok_data[7]\n",
    "                head = riadok_data[6]\n",
    "                id_slova = riadok_data[0]\n",
    "\n",
    "                xpos1 = xpos[0] if len(xpos) > 0 else '-'\n",
    "                xpos2 = xpos[1] if len(xpos) > 1 else '-'\n",
    "                xpos3 = xpos[2] if len(xpos) > 2 else '-'\n",
    "                xpos4 = xpos[3] if len(xpos) > 3 else '-'\n",
    "                xpos5 = xpos[4] if len(xpos) > 4 else '-'\n",
    "                xpos6 = xpos[5] if len(xpos) > 5 else '-'\n",
    "                xpos7 = xpos[6] if len(xpos) > 6 else '-'\n",
    "\n",
    "                data.append([token, lemma, xpos1, xpos2, xpos3, xpos4, xpos5, xpos6, xpos7, deprel, head, id_slova])\n",
    "    except Exception as e:\n",
    "        print(f\"Chyba pri spracovaní vety '{veta.text}': {e}\")\n",
    "\n",
    "# Vytvorenie DataFrame a uloženie do CSV\n",
    "df = pd.DataFrame(data, columns=['Token', 'Lemma', 'Xpos1', 'Xpos2', 'Xpos3', 'Xpos4', 'Xpos5', 'Xpos6', 'Xpos7', 'Deprel', 'Head', 'ID'])\n",
    "df.to_excel(\"output.xlsx\", index=False, engine=\"openpyxl\")\n",
    "\n",
    "print(\"Výstup uložený do 'output.csv'.\")"
   ]
  },
  {
   "cell_type": "code",
   "execution_count": null,
   "metadata": {},
   "outputs": [],
   "source": []
  }
 ],
 "metadata": {
  "kernelspec": {
   "display_name": ".venv",
   "language": "python",
   "name": "python3"
  },
  "language_info": {
   "codemirror_mode": {
    "name": "ipython",
    "version": 3
   },
   "file_extension": ".py",
   "mimetype": "text/x-python",
   "name": "python",
   "nbconvert_exporter": "python",
   "pygments_lexer": "ipython3",
   "version": "3.12.8"
  }
 },
 "nbformat": 4,
 "nbformat_minor": 2
}
