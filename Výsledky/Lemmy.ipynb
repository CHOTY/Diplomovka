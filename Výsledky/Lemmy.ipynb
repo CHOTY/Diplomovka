{
 "cells": [
  {
   "cell_type": "code",
   "execution_count": 1,
   "metadata": {},
   "outputs": [],
   "source": [
    "import matplotlib.pyplot as plt\n",
    "import pandas as pd\n",
    "import seaborn as sns\n",
    "import plotly\n",
    "import bokeh\n",
    "import re\n",
    "from collections import Counter"
   ]
  },
  {
   "cell_type": "code",
   "execution_count": 2,
   "metadata": {},
   "outputs": [],
   "source": [
    "# Definovanie cesty k súborom (použi raw string, aby sa predišlo problémom so spätnými lomítkami)\n",
    "file_morphodita = r\"C:\\Users\\marti\\Diplomovka\\morphodita\\words.xlsx\"\n",
    "file_stanza     = r\"C:\\Users\\marti\\Diplomovka\\stanza\\outputStanza.xlsx\"\n",
    "file_treetagger = r\"C:\\Users\\marti\\Diplomovka\\TreeTagger\\outputTreeTagger.xlsx\"\n",
    "file_udpipe     = r\"C:\\Users\\marti\\Diplomovka\\UDPipe\\UDPipe.xlsx\"\n",
    "file_control    = r\"C:\\Users\\marti\\Diplomovka\\DiplomovkaOpravene.xlsx\""
   ]
  },
  {
   "cell_type": "code",
   "execution_count": 3,
   "metadata": {},
   "outputs": [],
   "source": [
    "def clean_morphodita_lemma(lemma):\n",
    "    if pd.isnull(lemma):\n",
    "        return lemma\n",
    "    lemma = str(lemma).strip()\n",
    "    # Rozdelíme reťazec na základe znakov -, _ alebo `\n",
    "    cleaned = re.split(r'[-_`]', lemma)[0]\n",
    "    return cleaned\n",
    "\n",
    "# Ak potrebuješ aj pôvodnú funkciu, ktorá len odstráni nadbytočné medzery (ak by si ju chcel použiť na iné dataset-y)\n",
    "def clean_lemma(lemma):\n",
    "    if pd.isnull(lemma):\n",
    "        return lemma\n",
    "    cleaned = str(lemma).strip()\n",
    "    # Nahradenie viacnásobných medzier jednou medzerou (ak je to potrebné)\n",
    "    cleaned = re.sub(r'\\s+', ' ', cleaned)\n",
    "    return cleaned"
   ]
  },
  {
   "cell_type": "code",
   "execution_count": 4,
   "metadata": {},
   "outputs": [
    {
     "name": "stdout",
     "output_type": "stream",
     "text": [
      "Control dataset length: 1199\n",
      "Dataset morphodita length: 1215\n",
      "Dataset stanza length: 1199\n",
      "Dataset treetagger length: 1199\n",
      "Dataset udpipe length: 1199\n",
      "     Token Control_Lemma  Occurrence morphodita_Lemma  morphodita_Sentence_ID  \\\n",
      "0       Je           byť           0              byť                     1.0   \n",
      "1       už            už           0               už                     1.0   \n",
      "2    skoro         skoro           0            skoro                     1.0   \n",
      "3  október       október           0          október                     1.0   \n",
      "4        a             a           0                a                     1.0   \n",
      "\n",
      "   morphodita_Match stanza_Lemma  stanza_ID  stanza_Match treetagger_Lemma  \\\n",
      "0              True          byť          1          True              byť   \n",
      "1              True           už          2          True               už   \n",
      "2              True        skoro          3          True            skoro   \n",
      "3              True      október          4          True          október   \n",
      "4              True            a          5          True              a|s   \n",
      "\n",
      "   treetagger_ID  treetagger_Match udpipe_Lemma  udpipe_ID  udpipe_Match  \n",
      "0            1.0              True          byť          1          True  \n",
      "1            2.0              True           už          2          True  \n",
      "2            3.0              True        skoro          3          True  \n",
      "3            4.0              True      október          4          True  \n",
      "4            5.0             False            a          5          True  \n"
     ]
    }
   ],
   "source": [
    "# Načítanie kontrolného datasetu a čistenie lemm\n",
    "control_df = pd.read_excel(file_control)\n",
    "control_df['Control_Lemma'] = control_df['Lemma'].apply(clean_lemma)\n",
    "control_df['Control_Lemma']=control_df['Control_Lemma'].str.lower()\n",
    "# Pridáme pomocný stĺpec 'Occurrence' – poradové číslo výskytu tokenu\n",
    "control_df['Occurrence'] = control_df.groupby('Token').cumcount()\n",
    "\n",
    "# Vytvorenie základného agregovaného DataFrame s tokenmi, kontrolným očisteným lemmom a Occurrence\n",
    "aggregated = control_df[['Token', 'Control_Lemma', 'Occurrence']].copy()\n",
    "print(\"Control dataset length:\", len(aggregated))\n",
    "\n",
    "# Definícia tagger dataset-ov\n",
    "libraries = {\n",
    "    'morphodita': file_morphodita,\n",
    "    'stanza': file_stanza,\n",
    "    'treetagger': file_treetagger,\n",
    "    'udpipe': file_udpipe\n",
    "}\n",
    "\n",
    "for lib, path in libraries.items():\n",
    "    df = pd.read_excel(path)\n",
    "    print(f\"Dataset {lib} length: {len(df)}\")\n",
    "    \n",
    "    # Podľa taggera vyberieme vhodnú funkciu a identifikátor:\n",
    "    if lib == 'morphodita':\n",
    "        df['Lemma_clean'] = df['Lemma'].apply(clean_morphodita_lemma)\n",
    "        df['Lemma_clean']=df['Lemma_clean'].str.lower()\n",
    "        id_col = 'Sentence_ID'  # Morphodita používa Sentence_ID\n",
    "    else:\n",
    "        df['Lemma_clean'] = df['Lemma'].apply(clean_lemma)\n",
    "        df['Lemma_clean']=df['Lemma_clean'].str.lower()\n",
    "        id_col = 'ID'         # Ostatné dataset-y predpokladajú stĺpec ID\n",
    "    \n",
    "    # Pridáme stĺpec Occurrence pre daný dataset\n",
    "    df['Occurrence'] = df.groupby('Token').cumcount()\n",
    "    \n",
    "    # Vyberieme len relevantné stĺpce: Token, Occurrence, očistené lemma a identifikátor\n",
    "    df_subset = df[['Token', 'Occurrence', 'Lemma_clean', id_col]].copy()\n",
    "    # Premenujeme stĺpce, aby bolo jasné, z ktorého datasetu pochádzajú\n",
    "    df_subset.rename(columns={\n",
    "        'Lemma_clean': f'{lib}_Lemma',\n",
    "        id_col: f'{lib}_{id_col}'\n",
    "    }, inplace=True)\n",
    "    \n",
    "    # Zlúčenie (merge) s agregovaným DataFrame na základe dvojice (Token, Occurrence)\n",
    "    aggregated = pd.merge(aggregated, df_subset, on=['Token', 'Occurrence'], how='left')\n",
    "    \n",
    "    # Vypočítame boolean stĺpec, ktorý hovorí, či sa očistené lemma z taggera zhoduje s kontrolným\n",
    "    aggregated[f'{lib}_Match'] = (aggregated[f'{lib}_Lemma'] == aggregated['Control_Lemma']).fillna(False)\n",
    "\n",
    "# Ak nepotrebuješ pomocný stĺpec Occurrence, môžeš ho odstrániť:\n",
    "# aggregated.drop(columns=['Occurrence'], inplace=True)\n",
    "\n",
    "# Výpis výsledného DataFrame (prvých pár riadkov)\n",
    "print(aggregated.head())"
   ]
  },
  {
   "cell_type": "code",
   "execution_count": 5,
   "metadata": {},
   "outputs": [
    {
     "name": "stdout",
     "output_type": "stream",
     "text": [
      "udpipe_Match: 93.74% match (True: 1124, False: 75)\n",
      "treetagger_Match: 89.41% match (True: 1072, False: 127)\n",
      "stanza_Match: 91.74% match (True: 1100, False: 99)\n",
      "morphodita_Match: 89.82% match (True: 1077, False: 122)\n"
     ]
    }
   ],
   "source": [
    "match_columns = ['udpipe_Match', 'treetagger_Match', 'stanza_Match', 'morphodita_Match']\n",
    "\n",
    "for col in match_columns:\n",
    "    c = Counter(aggregated[col])\n",
    "    total = c[True] + c[False]\n",
    "    if total > 0:\n",
    "        percentage = c[True] / total * 100\n",
    "        print(f\"{col}: {percentage:.2f}% match (True: {c[True]}, False: {c[False]})\")\n",
    "    else:\n",
    "        print(f\"{col}: No data available\")"
   ]
  },
  {
   "cell_type": "code",
   "execution_count": 6,
   "metadata": {},
   "outputs": [],
   "source": [
    "# Uloženie výsledkov do Excel súboru, ak je to potrebné\n",
    "aggregated.to_excel(r\"C:\\Users\\marti\\Diplomovka\\AggregatedResults.xlsx\", index=False)"
   ]
  },
  {
   "cell_type": "code",
   "execution_count": 7,
   "metadata": {},
   "outputs": [
    {
     "name": "stderr",
     "output_type": "stream",
     "text": [
      "C:\\Users\\marti\\AppData\\Local\\Temp\\ipykernel_22428\\498150079.py:18: FutureWarning: \n",
      "\n",
      "Passing `palette` without assigning `hue` is deprecated and will be removed in v0.14.0. Assign the `x` variable to `hue` and set `legend=False` for the same effect.\n",
      "\n",
      "  sns.barplot(x='Library', y='Match_Percentage', data=summary_df, palette='viridis')\n"
     ]
    },
    {
     "data": {
      "image/png": "[encoded data removed]",
      "text/plain": [
       "<Figure size 800x600 with 1 Axes>"
      ]
     },
     "metadata": {},
     "output_type": "display_data"
    }
   ],
   "source": [
    "# Predpokladáme, že aggregated je už vytvorený DataFrame\n",
    "library = ['udpipe', 'treetagger', 'stanza', 'morphodita']\n",
    "\n",
    "# Vytvoríme zhrnutie: pre každú knižnicu spočítame percento True (Match)\n",
    "data = []\n",
    "for lib in library:\n",
    "    # Počet tokenov, kde je hodnota nie-NaN (predpokladáme, že všetky sú booleovské)\n",
    "    total = aggregated[f'{lib}_Match'].notnull().sum()\n",
    "    count_true = aggregated[f'{lib}_Match'].sum()  # True sa sčíta ako 1\n",
    "    percentage = (count_true / total * 100) if total > 0 else 0\n",
    "    data.append({'Library': lib, 'Match_Percentage': percentage,\n",
    "                 'Count_True': count_true, 'Total': total})\n",
    "\n",
    "summary_df = pd.DataFrame(data)\n",
    "\n",
    "# Vykreslenie bar chartu\n",
    "plt.figure(figsize=(8, 6))\n",
    "sns.barplot(x='Library', y='Match_Percentage', data=summary_df, palette='viridis')\n",
    "plt.title('Percentuálny podiel zhôd (Match) pre jednotlivé knižnice')\n",
    "plt.ylabel('Percento zhôd (%)')\n",
    "plt.ylim(0, 100)\n",
    "plt.show()"
   ]
  },
  {
   "cell_type": "code",
   "execution_count": 8,
   "metadata": {},
   "outputs": [
    {
     "data": {
      "image/png": "[encoded data removed]"
     },
     "metadata": {
      "image/png": {
       "height": 480,
       "width": 640
      }
     },
     "output_type": "display_data"
    }
   ],
   "source": [
    "from plotnine import ggplot, aes, geom_bar, labs, theme_minimal\n",
    "\n",
    "p = (ggplot(summary_df, aes(x='Library', y='Match_Percentage'))\n",
    "     + geom_bar(stat='identity', fill='skyblue')\n",
    "     + labs(title='Percentuálny podiel zhôd (Match) pre jednotlivé knižnice',\n",
    "            x='Knižnica', y='Percento zhôd (%)')\n",
    "     + theme_minimal())\n",
    "p"
   ]
  },
  {
   "cell_type": "code",
   "execution_count": 9,
   "metadata": {},
   "outputs": [
    {
     "data": {
      "image/png": "[encoded data removed]"
     },
     "metadata": {
      "image/png": {
       "height": 480,
       "width": 640
      }
     },
     "output_type": "display_data"
    }
   ],
   "source": [
    "from IPython.display import display\n",
    "display(p)"
   ]
  },
  {
   "cell_type": "code",
   "execution_count": 10,
   "metadata": {},
   "outputs": [
    {
     "data": {
      "application/vnd.plotly.v1+json": {
       "config": {
        "plotlyServerURL": "https://plot.ly"
       },
       "data": [
        {
         "hovertemplate": "Library=%{x}<br>Percento zhôd (%)=%{text}<extra></extra>",
         "legendgroup": "",
         "marker": {
          "color": "#636efa",
          "pattern": {
           "shape": ""
          }
         },
         "name": "",
         "orientation": "v",
         "showlegend": false,
         "text": {
          "bdata": "KXFymKpvV0AWN2IMGlpWQPkuHESP71ZANdqeaMp0VkA=",
          "dtype": "f8"
         },
         "textposition": "outside",
         "texttemplate": "%{text:.2f}%",
         "type": "bar",
         "x": [
          "udpipe",
          "treetagger",
          "stanza",
          "morphodita"
         ],
         "xaxis": "x",
         "y": {
          "bdata": "KXFymKpvV0AWN2IMGlpWQPkuHESP71ZANdqeaMp0VkA=",
          "dtype": "f8"
         },
         "yaxis": "y"
        }
       ],
       "layout": {
        "barmode": "relative",
        "legend": {
         "tracegroupgap": 0
        },
        "template": {
         "data": {
          "bar": [
           {
            "error_x": {
             "color": "#2a3f5f"
            },
            "error_y": {
             "color": "#2a3f5f"
            },
            "marker": {
             "line": {
              "color": "#E5ECF6",
              "width": 0.5
             },
             "pattern": {
              "fillmode": "overlay",
              "size": 10,
              "solidity": 0.2
             }
            },
            "type": "bar"
           }
          ],
          "barpolar": [
           {
            "marker": {
             "line": {
              "color": "#E5ECF6",
              "width": 0.5
             },
             "pattern": {
              "fillmode": "overlay",
              "size": 10,
              "solidity": 0.2
             }
            },
            "type": "barpolar"
           }
          ],
          "carpet": [
           {
            "aaxis": {
             "endlinecolor": "#2a3f5f",
             "gridcolor": "white",
             "linecolor": "white",
             "minorgridcolor": "white",
             "startlinecolor": "#2a3f5f"
            },
            "baxis": {
             "endlinecolor": "#2a3f5f",
             "gridcolor": "white",
             "linecolor": "white",
             "minorgridcolor": "white",
             "startlinecolor": "#2a3f5f"
            },
            "type": "carpet"
           }
          ],
          "choropleth": [
           {
            "colorbar": {
             "outlinewidth": 0,
             "ticks": ""
            },
            "type": "choropleth"
           }
          ],
          "contour": [
           {
            "colorbar": {
             "outlinewidth": 0,
             "ticks": ""
            },
            "colorscale": [
             [
              0,
              "#0d0887"
             ],
             [
              0.1111111111111111,
              "#46039f"
             ],
             [
              0.2222222222222222,
              "#7201a8"
             ],
             [
              0.3333333333333333,
              "#9c179e"
             ],
             [
              0.4444444444444444,
              "#bd3786"
             ],
             [
              0.5555555555555556,
              "#d8576b"
             ],
             [
              0.6666666666666666,
              "#ed7953"
             ],
             [
              0.7777777777777778,
              "#fb9f3a"
             ],
             [
              0.8888888888888888,
              "#fdca26"
             ],
             [
              1,
              "#f0f921"
             ]
            ],
            "type": "contour"
           }
          ],
          "contourcarpet": [
           {
            "colorbar": {
             "outlinewidth": 0,
             "ticks": ""
            },
            "type": "contourcarpet"
           }
          ],
          "heatmap": [
           {
            "colorbar": {
             "outlinewidth": 0,
             "ticks": ""
            },
            "colorscale": [
             [
              0,
              "#0d0887"
             ],
             [
              0.1111111111111111,
              "#46039f"
             ],
             [
              0.2222222222222222,
              "#7201a8"
             ],
             [
              0.3333333333333333,
              "#9c179e"
             ],
             [
              0.4444444444444444,
              "#bd3786"
             ],
             [
              0.5555555555555556,
              "#d8576b"
             ],
             [
              0.6666666666666666,
              "#ed7953"
             ],
             [
              0.7777777777777778,
              "#fb9f3a"
             ],
             [
              0.8888888888888888,
              "#fdca26"
             ],
             [
              1,
              "#f0f921"
             ]
            ],
            "type": "heatmap"
           }
          ],
          "histogram": [
           {
            "marker": {
             "pattern": {
              "fillmode": "overlay",
              "size": 10,
              "solidity": 0.2
             }
            },
            "type": "histogram"
           }
          ],
          "histogram2d": [
           {
            "colorbar": {
             "outlinewidth": 0,
             "ticks": ""
            },
            "colorscale": [
             [
              0,
              "#0d0887"
             ],
             [
              0.1111111111111111,
              "#46039f"
             ],
             [
              0.2222222222222222,
              "#7201a8"
             ],
             [
              0.3333333333333333,
              "#9c179e"
             ],
             [
              0.4444444444444444,
              "#bd3786"
             ],
             [
              0.5555555555555556,
              "#d8576b"
             ],
             [
              0.6666666666666666,
              "#ed7953"
             ],
             [
              0.7777777777777778,
              "#fb9f3a"
             ],
             [
              0.8888888888888888,
              "#fdca26"
             ],
             [
              1,
              "#f0f921"
             ]
            ],
            "type": "histogram2d"
           }
          ],
          "histogram2dcontour": [
           {
            "colorbar": {
             "outlinewidth": 0,
             "ticks": ""
            },
            "colorscale": [
             [
              0,
              "#0d0887"
             ],
             [
              0.1111111111111111,
              "#46039f"
             ],
             [
              0.2222222222222222,
              "#7201a8"
             ],
             [
              0.3333333333333333,
              "#9c179e"
             ],
             [
              0.4444444444444444,
              "#bd3786"
             ],
             [
              0.5555555555555556,
              "#d8576b"
             ],
             [
              0.6666666666666666,
              "#ed7953"
             ],
             [
              0.7777777777777778,
              "#fb9f3a"
             ],
             [
              0.8888888888888888,
              "#fdca26"
             ],
             [
              1,
              "#f0f921"
             ]
            ],
            "type": "histogram2dcontour"
           }
          ],
          "mesh3d": [
           {
            "colorbar": {
             "outlinewidth": 0,
             "ticks": ""
            },
            "type": "mesh3d"
           }
          ],
          "parcoords": [
           {
            "line": {
             "colorbar": {
              "outlinewidth": 0,
              "ticks": ""
             }
            },
            "type": "parcoords"
           }
          ],
          "pie": [
           {
            "automargin": true,
            "type": "pie"
           }
          ],
          "scatter": [
           {
            "fillpattern": {
             "fillmode": "overlay",
             "size": 10,
             "solidity": 0.2
            },
            "type": "scatter"
           }
          ],
          "scatter3d": [
           {
            "line": {
             "colorbar": {
              "outlinewidth": 0,
              "ticks": ""
             }
            },
            "marker": {
             "colorbar": {
              "outlinewidth": 0,
              "ticks": ""
             }
            },
            "type": "scatter3d"
           }
          ],
          "scattercarpet": [
           {
            "marker": {
             "colorbar": {
              "outlinewidth": 0,
              "ticks": ""
             }
            },
            "type": "scattercarpet"
           }
          ],
          "scattergeo": [
           {
            "marker": {
             "colorbar": {
              "outlinewidth": 0,
              "ticks": ""
             }
            },
            "type": "scattergeo"
           }
          ],
          "scattergl": [
           {
            "marker": {
             "colorbar": {
              "outlinewidth": 0,
              "ticks": ""
             }
            },
            "type": "scattergl"
           }
          ],
          "scattermap": [
           {
            "marker": {
             "colorbar": {
              "outlinewidth": 0,
              "ticks": ""
             }
            },
            "type": "scattermap"
           }
          ],
          "scattermapbox": [
           {
            "marker": {
             "colorbar": {
              "outlinewidth": 0,
              "ticks": ""
             }
            },
            "type": "scattermapbox"
           }
          ],
          "scatterpolar": [
           {
            "marker": {
             "colorbar": {
              "outlinewidth": 0,
              "ticks": ""
             }
            },
            "type": "scatterpolar"
           }
          ],
          "scatterpolargl": [
           {
            "marker": {
             "colorbar": {
              "outlinewidth": 0,
              "ticks": ""
             }
            },
            "type": "scatterpolargl"
           }
          ],
          "scatterternary": [
           {
            "marker": {
             "colorbar": {
              "outlinewidth": 0,
              "ticks": ""
             }
            },
            "type": "scatterternary"
           }
          ],
          "surface": [
           {
            "colorbar": {
             "outlinewidth": 0,
             "ticks": ""
            },
            "colorscale": [
             [
              0,
              "#0d0887"
             ],
             [
              0.1111111111111111,
              "#46039f"
             ],
             [
              0.2222222222222222,
              "#7201a8"
             ],
             [
              0.3333333333333333,
              "#9c179e"
             ],
             [
              0.4444444444444444,
              "#bd3786"
             ],
             [
              0.5555555555555556,
              "#d8576b"
             ],
             [
              0.6666666666666666,
              "#ed7953"
             ],
             [
              0.7777777777777778,
              "#fb9f3a"
             ],
             [
              0.8888888888888888,
              "#fdca26"
             ],
             [
              1,
              "#f0f921"
             ]
            ],
            "type": "surface"
           }
          ],
          "table": [
           {
            "cells": {
             "fill": {
              "color": "#EBF0F8"
             },
             "line": {
              "color": "white"
             }
            },
            "header": {
             "fill": {
              "color": "#C8D4E3"
             },
             "line": {
              "color": "white"
             }
            },
            "type": "table"
           }
          ]
         },
         "layout": {
          "annotationdefaults": {
           "arrowcolor": "#2a3f5f",
           "arrowhead": 0,
           "arrowwidth": 1
          },
          "autotypenumbers": "strict",
          "coloraxis": {
           "colorbar": {
            "outlinewidth": 0,
            "ticks": ""
           }
          },
          "colorscale": {
           "diverging": [
            [
             0,
             "#8e0152"
            ],
            [
             0.1,
             "#c51b7d"
            ],
            [
             0.2,
             "#de77ae"
            ],
            [
             0.3,
             "#f1b6da"
            ],
            [
             0.4,
             "#fde0ef"
            ],
            [
             0.5,
             "#f7f7f7"
            ],
            [
             0.6,
             "#e6f5d0"
            ],
            [
             0.7,
             "#b8e186"
            ],
            [
             0.8,
             "#7fbc41"
            ],
            [
             0.9,
             "#4d9221"
            ],
            [
             1,
             "#276419"
            ]
           ],
           "sequential": [
            [
             0,
             "#0d0887"
            ],
            [
             0.1111111111111111,
             "#46039f"
            ],
            [
             0.2222222222222222,
             "#7201a8"
            ],
            [
             0.3333333333333333,
             "#9c179e"
            ],
            [
             0.4444444444444444,
             "#bd3786"
            ],
            [
             0.5555555555555556,
             "#d8576b"
            ],
            [
             0.6666666666666666,
             "#ed7953"
            ],
            [
             0.7777777777777778,
             "#fb9f3a"
            ],
            [
             0.8888888888888888,
             "#fdca26"
            ],
            [
             1,
             "#f0f921"
            ]
           ],
           "sequentialminus": [
            [
             0,
             "#0d0887"
            ],
            [
             0.1111111111111111,
             "#46039f"
            ],
            [
             0.2222222222222222,
             "#7201a8"
            ],
            [
             0.3333333333333333,
             "#9c179e"
            ],
            [
             0.4444444444444444,
             "#bd3786"
            ],
            [
             0.5555555555555556,
             "#d8576b"
            ],
            [
             0.6666666666666666,
             "#ed7953"
            ],
            [
             0.7777777777777778,
             "#fb9f3a"
            ],
            [
             0.8888888888888888,
             "#fdca26"
            ],
            [
             1,
             "#f0f921"
            ]
           ]
          },
          "colorway": [
           "#636efa",
           "#EF553B",
           "#00cc96",
           "#ab63fa",
           "#FFA15A",
           "#19d3f3",
           "#FF6692",
           "#B6E880",
           "#FF97FF",
           "#FECB52"
          ],
          "font": {
           "color": "#2a3f5f"
          },
          "geo": {
           "bgcolor": "white",
           "lakecolor": "white",
           "landcolor": "#E5ECF6",
           "showlakes": true,
           "showland": true,
           "subunitcolor": "white"
          },
          "hoverlabel": {
           "align": "left"
          },
          "hovermode": "closest",
          "mapbox": {
           "style": "light"
          },
          "paper_bgcolor": "white",
          "plot_bgcolor": "#E5ECF6",
          "polar": {
           "angularaxis": {
            "gridcolor": "white",
            "linecolor": "white",
            "ticks": ""
           },
           "bgcolor": "#E5ECF6",
           "radialaxis": {
            "gridcolor": "white",
            "linecolor": "white",
            "ticks": ""
           }
          },
          "scene": {
           "xaxis": {
            "backgroundcolor": "#E5ECF6",
            "gridcolor": "white",
            "gridwidth": 2,
            "linecolor": "white",
            "showbackground": true,
            "ticks": "",
            "zerolinecolor": "white"
           },
           "yaxis": {
            "backgroundcolor": "#E5ECF6",
            "gridcolor": "white",
            "gridwidth": 2,
            "linecolor": "white",
            "showbackground": true,
            "ticks": "",
            "zerolinecolor": "white"
           },
           "zaxis": {
            "backgroundcolor": "#E5ECF6",
            "gridcolor": "white",
            "gridwidth": 2,
            "linecolor": "white",
            "showbackground": true,
            "ticks": "",
            "zerolinecolor": "white"
           }
          },
          "shapedefaults": {
           "line": {
            "color": "#2a3f5f"
           }
          },
          "ternary": {
           "aaxis": {
            "gridcolor": "white",
            "linecolor": "white",
            "ticks": ""
           },
           "baxis": {
            "gridcolor": "white",
            "linecolor": "white",
            "ticks": ""
           },
           "bgcolor": "#E5ECF6",
           "caxis": {
            "gridcolor": "white",
            "linecolor": "white",
            "ticks": ""
           }
          },
          "title": {
           "x": 0.05
          },
          "xaxis": {
           "automargin": true,
           "gridcolor": "white",
           "linecolor": "white",
           "ticks": "",
           "title": {
            "standoff": 15
           },
           "zerolinecolor": "white",
           "zerolinewidth": 2
          },
          "yaxis": {
           "automargin": true,
           "gridcolor": "white",
           "linecolor": "white",
           "ticks": "",
           "title": {
            "standoff": 15
           },
           "zerolinecolor": "white",
           "zerolinewidth": 2
          }
         }
        },
        "title": {
         "text": "Percentuálny podiel zhôd (Match) pre jednotlivé knižnice"
        },
        "xaxis": {
         "anchor": "y",
         "domain": [
          0,
          1
         ],
         "title": {
          "text": "Library"
         }
        },
        "yaxis": {
         "anchor": "x",
         "domain": [
          0,
          1
         ],
         "range": [
          0,
          100
         ],
         "title": {
          "text": "Percento zhôd (%)"
         }
        }
       }
      }
     },
     "metadata": {},
     "output_type": "display_data"
    }
   ],
   "source": [
    "import plotly.express as px\n",
    "\n",
    "fig = px.bar(summary_df, \n",
    "             x='Library', \n",
    "             y='Match_Percentage', \n",
    "             title='Percentuálny podiel zhôd (Match) pre jednotlivé knižnice',\n",
    "             labels={'Match_Percentage': 'Percento zhôd (%)'},\n",
    "             text='Match_Percentage')\n",
    "fig.update_traces(texttemplate='%{text:.2f}%', textposition='outside')\n",
    "fig.update_layout(yaxis_range=[0, 100])\n",
    "fig.show()\n"
   ]
  },
  {
   "cell_type": "code",
   "execution_count": 11,
   "metadata": {},
   "outputs": [
    {
     "data": {
      "image/png": "[encoded data removed]",
      "text/plain": [
       "<Figure size 600x600 with 1 Axes>"
      ]
     },
     "metadata": {},
     "output_type": "display_data"
    }
   ],
   "source": [
    "import matplotlib.pyplot as plt\n",
    "\n",
    "c = aggregated['udpipe_Match'].value_counts()\n",
    "labels = ['Match (True)', 'Mismatch (False)']\n",
    "plt.figure(figsize=(6, 6))\n",
    "plt.pie(c, labels=labels, autopct='%1.1f%%', startangle=90, colors=['lightgreen', 'salmon'])\n",
    "plt.title('Lemma rozloženie zhôd pre UDPIPE')\n",
    "plt.show()\n"
   ]
  },
  {
   "cell_type": "code",
   "execution_count": null,
   "metadata": {},
   "outputs": [],
   "source": []
  }
 ],
 "metadata": {
  "kernelspec": {
   "display_name": ".venv",
   "language": "python",
   "name": "python3"
  },
  "language_info": {
   "codemirror_mode": {
    "name": "ipython",
    "version": 3
   },
   "file_extension": ".py",
   "mimetype": "text/x-python",
   "name": "python",
   "nbconvert_exporter": "python",
   "pygments_lexer": "ipython3",
   "version": "3.12.8"
  }
 },
 "nbformat": 4,
 "nbformat_minor": 2
}
