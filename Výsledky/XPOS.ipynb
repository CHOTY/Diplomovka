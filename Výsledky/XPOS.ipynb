{
 "cells": [
  {
   "cell_type": "code",
   "execution_count": 1,
   "metadata": {},
   "outputs": [],
   "source": [
    "import pandas as pd"
   ]
  },
  {
   "cell_type": "code",
   "execution_count": 2,
   "metadata": {},
   "outputs": [],
   "source": [
    "# Cesty k súborom\n",
    "file_control    = r\"C:\\Users\\marti\\Diplomovka\\DiplomovkaOpravene.xlsx\"\n",
    "file_stanza     = r\"C:\\Users\\marti\\Diplomovka\\stanza\\outputStanza.xlsx\"\n",
    "file_trankit    = r\"C:\\Users\\marti\\Diplomovka\\Trankit\\Trankit_new_words.xlsx\"\n",
    "file_treetagger = r\"C:\\Users\\marti\\Diplomovka\\TreeTagger\\outputTreeTagger.xlsx\"\n",
    "file_udpipe     = r\"C:\\Users\\marti\\Diplomovka\\UDPipe\\UDPipe.xlsx\""
   ]
  },
  {
   "cell_type": "code",
   "execution_count": 3,
   "metadata": {},
   "outputs": [],
   "source": [
    "# Načítame kontrolný súbor\n",
    "control_df = pd.read_excel(file_control)\n",
    "n = len(control_df)  # počet riadkov, ktoré budeme používať (predpokladáme, že ostatné súbory budú zreťazené podľa kontrolného)\n",
    "\n",
    "# Vytvoríme základný výstupný DataFrame – najprv pridáme Token zo súboru kontrol\n",
    "output_df = pd.DataFrame()\n",
    "output_df['Token'] = control_df['Token'].iloc[:n].reset_index(drop=True)"
   ]
  },
  {
   "cell_type": "code",
   "execution_count": 4,
   "metadata": {},
   "outputs": [
    {
     "name": "stdout",
     "output_type": "stream",
     "text": [
      "Výsledný DataFrame uložený do: C:\\Users\\marti\\Diplomovka\\Agregovany_XPOS_Match.xlsx\n"
     ]
    }
   ],
   "source": [
    "# Definujeme informácie o knižniciach: kľúč = názov knižnice, hodnota = (cesta, prefix pre stĺpce)\n",
    "libraries = {\n",
    "    'stanza': (file_stanza, \"Xpos\"),\n",
    "    'trankit': (file_trankit, \"Xpos\"),  # pre trankit používame veľké \"XPOS\"\n",
    "    'treetagger': (file_treetagger, \"Xpos\"),\n",
    "    'udpipe': (file_udpipe, \"Xpos\")\n",
    "}\n",
    "\n",
    "# Pre každú knižnicu načítame jej súbor, orežeme na n riadkov a pre každý Xpos (1 až 7) porovnáme hodnotu s kontrolným\n",
    "for lib, (file_path, prefix) in libraries.items():\n",
    "    # Načítame súbor danej knižnice\n",
    "    lib_df = pd.read_excel(file_path)\n",
    "    lib_df = lib_df.iloc[:n].reset_index(drop=True)\n",
    "    \n",
    "    # Pre každý Xpos index od 1 do 7\n",
    "    for i in range(1, 8):\n",
    "        # Vytvoríme názov stĺpca pre danú knižnicu (napr. \"stanza1\" alebo \"trankit1\")\n",
    "        out_col = f\"{lib}{i}\"\n",
    "        # Predpokladáme, že v kontrolnom súbore sú stĺpce \"Xpos1\", \"Xpos2\", …, \"Xpos7\"\n",
    "        control_col = f\"Xpos{i}\"\n",
    "        # Pre knižnice s prefixom \"XPOS\" (trankit) použijeme tento názov; pre ostatné predpokladáme \"Xpos\"\n",
    "        lib_col = f\"{prefix}{i}\"\n",
    "        \n",
    "        # Porovnanie – previesť hodnoty na reťazce, odstrániť medzery a prepnúť na malé písmená\n",
    "        control_vals = control_df[control_col].astype(str).str.strip().str.lower().reset_index(drop=True)\n",
    "        lib_vals = lib_df[lib_col].astype(str).str.strip().str.lower().reset_index(drop=True)\n",
    "        \n",
    "        # Vytvoríme booleovský stĺpec, ktorý bude True, ak sa hodnoty zhodujú, inak False\n",
    "        output_df[out_col] = (lib_vals == control_vals)\n",
    "\n",
    "# Uložíme výsledný DataFrame do Excelu\n",
    "output_path = r\"C:\\Users\\marti\\Diplomovka\\Agregovany_XPOS_Match.xlsx\"\n",
    "output_df.to_excel(output_path, index=False)\n",
    "\n",
    "print(\"Výsledný DataFrame uložený do:\", output_path)\n"
   ]
  },
  {
   "cell_type": "code",
   "execution_count": 6,
   "metadata": {},
   "outputs": [
    {
     "name": "stdout",
     "output_type": "stream",
     "text": [
      "Percentuálne vyhodnotenie zhody pre jednotlivé knižnice a pozície Xpos:\n",
      "stanza:\n",
      "  Xpos1: 97.00%\n",
      "  Xpos2: 96.16%\n",
      "  Xpos3: 91.58%\n",
      "  Xpos4: 97.25%\n",
      "  Xpos5: 94.33%\n",
      "  Xpos6: 90.58%\n",
      "  Xpos7: 97.75%\n",
      "trankit:\n",
      "  Xpos1: 98.25%\n",
      "  Xpos2: 96.58%\n",
      "  Xpos3: 91.66%\n",
      "  Xpos4: 97.16%\n",
      "  Xpos5: 95.50%\n",
      "  Xpos6: 91.08%\n",
      "  Xpos7: 97.91%\n",
      "treetagger:\n",
      "  Xpos1: 29.11%\n",
      "  Xpos2: 28.27%\n",
      "  Xpos3: 28.86%\n",
      "  Xpos4: 44.04%\n",
      "  Xpos5: 33.94%\n",
      "  Xpos6: 62.89%\n",
      "  Xpos7: 88.66%\n",
      "udpipe:\n",
      "  Xpos1: 97.91%\n",
      "  Xpos2: 96.83%\n",
      "  Xpos3: 91.24%\n",
      "  Xpos4: 97.25%\n",
      "  Xpos5: 95.00%\n",
      "  Xpos6: 90.99%\n",
      "  Xpos7: 98.00%\n"
     ]
    }
   ],
   "source": [
    "# Predpokladáme, že output_df obsahuje stĺpce:\n",
    "# \"Token\", \"stanza1\", \"stanza2\", ... \"stanza7\",\n",
    "# \"trankit1\", ... \"trankit7\", \"treetagger1\", ... \"treetagger7\",\n",
    "# \"udpipe1\", ... \"udpipe7\", \"morphodita1\", ... \"morphodita7\"\n",
    "# a v týchto stĺpcoch sú booleovské hodnoty True/False.\n",
    "\n",
    "libraries = ['stanza', 'trankit', 'treetagger', 'udpipe']\n",
    "percent_summary = {}\n",
    "\n",
    "for lib in libraries:\n",
    "    lib_summary = {}\n",
    "    for i in range(1, 8):\n",
    "        col = f\"{lib}{i}\"\n",
    "        if col in output_df.columns:\n",
    "            # .mean() pre booleovské stĺpce vráti podiel True (keďže True = 1, False = 0)\n",
    "            percentage = output_df[col].mean() * 100\n",
    "            lib_summary[f\"Xpos{i}\"] = percentage\n",
    "    percent_summary[lib] = lib_summary\n",
    "\n",
    "print(\"Percentuálne vyhodnotenie zhody pre jednotlivé knižnice a pozície Xpos:\")\n",
    "for lib, summary in percent_summary.items():\n",
    "    print(f\"{lib}:\")\n",
    "    for xpos, pct in summary.items():\n",
    "        print(f\"  {xpos}: {pct:.2f}%\")\n"
   ]
  },
  {
   "cell_type": "code",
   "execution_count": 8,
   "metadata": {},
   "outputs": [
    {
     "name": "stdout",
     "output_type": "stream",
     "text": [
      "Percentuálne vyhodnotenie zhody pre jednotlivé knižnice a pozície Xpos (porovnávané len, ak Xpos1 je správne):\n",
      "stanza:\n",
      "  Xpos1: 97.00%\n",
      "  Xpos2: 98.19%\n",
      "  Xpos3: 92.26%\n",
      "  Xpos4: 97.94%\n",
      "  Xpos5: 95.10%\n",
      "  Xpos6: 91.49%\n",
      "  Xpos7: 98.11%\n",
      "trankit:\n",
      "  Xpos1: 98.25%\n",
      "  Xpos2: 97.71%\n",
      "  Xpos3: 92.28%\n",
      "  Xpos4: 97.62%\n",
      "  Xpos5: 95.93%\n",
      "  Xpos6: 91.85%\n",
      "  Xpos7: 98.05%\n",
      "treetagger:\n",
      "  Xpos1: 29.11%\n",
      "  Xpos2: 82.81%\n",
      "  Xpos3: 66.76%\n",
      "  Xpos4: 78.51%\n",
      "  Xpos5: 65.62%\n",
      "  Xpos6: 85.96%\n",
      "  Xpos7: 93.98%\n",
      "udpipe:\n",
      "  Xpos1: 97.91%\n",
      "  Xpos2: 97.96%\n",
      "  Xpos3: 91.91%\n",
      "  Xpos4: 97.79%\n",
      "  Xpos5: 95.49%\n",
      "  Xpos6: 91.82%\n",
      "  Xpos7: 98.13%\n"
     ]
    }
   ],
   "source": [
    "# Predpokladáme, že aggregatedUPOS je DataFrame s požadovanými stĺpcami\n",
    "libraries = ['stanza', 'trankit', 'treetagger', 'udpipe']\n",
    "percent_summary = {}\n",
    "\n",
    "for lib in libraries:\n",
    "    lib_summary = {}\n",
    "    \n",
    "    # Pre Xpos1: počítame normálne\n",
    "    col1 = f\"{lib}1\"\n",
    "    percentage = output_df[col1].mean() * 100  # .mean() vracia podiel True\n",
    "    lib_summary[\"Xpos1\"] = percentage\n",
    "    \n",
    "    # Pre Xpos2 až Xpos7: počítame len pre tie tokeny, kde je zhoda v prvej pozícii\n",
    "    for i in range(2, 8):\n",
    "        col = f\"{lib}{i}\"\n",
    "        # Vyberieme tie riadky, kde je zhoda pre pozíciu 1\n",
    "        subset = output_df[output_df[col1] == True]\n",
    "        if len(subset) > 0:\n",
    "            percentage = subset[col].mean() * 100\n",
    "        else:\n",
    "            percentage = 0\n",
    "        lib_summary[f\"Xpos{i}\"] = percentage\n",
    "        \n",
    "    percent_summary[lib] = lib_summary\n",
    "\n",
    "# Výpis výsledkov\n",
    "print(\"Percentuálne vyhodnotenie zhody pre jednotlivé knižnice a pozície Xpos (porovnávané len, ak Xpos1 je správne):\")\n",
    "for lib, summary in percent_summary.items():\n",
    "    print(f\"{lib}:\")\n",
    "    for xpos, pct in summary.items():\n",
    "        print(f\"  {xpos}: {pct:.2f}%\")\n"
   ]
  },
  {
   "cell_type": "code",
   "execution_count": null,
   "metadata": {},
   "outputs": [],
   "source": []
  }
 ],
 "metadata": {
  "kernelspec": {
   "display_name": ".venv",
   "language": "python",
   "name": "python3"
  },
  "language_info": {
   "codemirror_mode": {
    "name": "ipython",
    "version": 3
   },
   "file_extension": ".py",
   "mimetype": "text/x-python",
   "name": "python",
   "nbconvert_exporter": "python",
   "pygments_lexer": "ipython3",
   "version": "3.12.8"
  }
 },
 "nbformat": 4,
 "nbformat_minor": 2
}
