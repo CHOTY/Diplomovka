{
 "cells": [
  {
   "cell_type": "code",
   "execution_count": 8,
   "metadata": {},
   "outputs": [],
   "source": [
    "import pandas as pd"
   ]
  },
  {
   "cell_type": "code",
   "execution_count": 9,
   "metadata": {},
   "outputs": [],
   "source": [
    "# Nastavenie cesty k agregovanému súboru (uprav podľa svojej cesty)\n",
    "file_aggregated = r\"C:\\Users\\marti\\Diplomovka\\Agregovany_XPOS_Match.xlsx\"\n"
   ]
  },
  {
   "cell_type": "code",
   "execution_count": 10,
   "metadata": {},
   "outputs": [
    {
     "name": "stdout",
     "output_type": "stream",
     "text": [
      "Riadky, kde sú Xpos1 rovnaké medzi stanza, trankit a udpipe:\n",
      "          Token  stanza1  trankit1  udpipe1\n",
      "0            Je     True      True     True\n",
      "1            už     True      True     True\n",
      "3       október     True      True     True\n",
      "4             a     True      True     True\n",
      "5             v     True      True     True\n",
      "...         ...      ...       ...      ...\n",
      "1194  Slovensku     True      True     True\n",
      "1195         je     True      True     True\n",
      "1196          v     True      True     True\n",
      "1197  Hurbanove     True      True     True\n",
      "1198          .     True      True     True\n",
      "\n",
      "[1163 rows x 4 columns]\n",
      "\n",
      "Unikátne Xpos1, ktoré sú rovnaké medzi stanza, trankit a udpipe:\n",
      "[ True False]\n"
     ]
    }
   ],
   "source": [
    "# Načítanie agregovaného DataFrame\n",
    "aggregatedUPOS = pd.read_excel(file_aggregated)\n",
    "\n",
    "# Vyfiltrujeme riadky, kde sú hodnoty v stĺpcoch 'stanza1', 'trankit1' a 'udpipe1' rovnaké\n",
    "common_rows = aggregatedUPOS[\n",
    "    (aggregatedUPOS['stanza1'] == aggregatedUPOS['trankit1']) &\n",
    "    (aggregatedUPOS['stanza1'] == aggregatedUPOS['udpipe1'])\n",
    "]\n",
    "\n",
    "# Vypíšeme riadky, kde sú Xpos1 rovnaké medzi uvedenými zdrojmi\n",
    "print(\"Riadky, kde sú Xpos1 rovnaké medzi stanza, trankit a udpipe:\")\n",
    "print(common_rows[['Token', 'stanza1', 'trankit1', 'udpipe1']])\n",
    "\n",
    "# Ak potrebuješ iba unikátne hodnoty (jedinečné UPOS tagy) zo stĺpca 'stanza1'\n",
    "unique_common = common_rows['stanza1'].unique()\n",
    "print(\"\\nUnikátne Xpos1, ktoré sú rovnaké medzi stanza, trankit a udpipe:\")\n",
    "print(unique_common)\n"
   ]
  },
  {
   "cell_type": "code",
   "execution_count": 14,
   "metadata": {},
   "outputs": [
    {
     "name": "stdout",
     "output_type": "stream",
     "text": [
      "Counter({True: 1151, False: 12})\n"
     ]
    }
   ],
   "source": [
    "from collections import Counter\n",
    "print(Counter(common_rows['trankit1']))\n"
   ]
  },
  {
   "cell_type": "code",
   "execution_count": 16,
   "metadata": {},
   "outputs": [
    {
     "data": {
      "text/plain": [
       "0.9691666666666666"
      ]
     },
     "execution_count": 16,
     "metadata": {},
     "output_type": "execute_result"
    }
   ],
   "source": [
    "1163/1200"
   ]
  },
  {
   "cell_type": "code",
   "execution_count": null,
   "metadata": {},
   "outputs": [],
   "source": []
  }
 ],
 "metadata": {
  "kernelspec": {
   "display_name": ".venv",
   "language": "python",
   "name": "python3"
  },
  "language_info": {
   "codemirror_mode": {
    "name": "ipython",
    "version": 3
   },
   "file_extension": ".py",
   "mimetype": "text/x-python",
   "name": "python",
   "nbconvert_exporter": "python",
   "pygments_lexer": "ipython3",
   "version": "3.12.8"
  }
 },
 "nbformat": 4,
 "nbformat_minor": 2
}
